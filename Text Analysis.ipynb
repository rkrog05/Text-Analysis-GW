{
 "cells": [
  {
   "cell_type": "code",
   "execution_count": 1,
   "metadata": {
    "collapsed": false
   },
   "outputs": [
    {
     "name": "stderr",
     "output_type": "stream",
     "text": [
      "also installing the dependencies ‘slam’, ‘SnowballC’, ‘wordcloud’, ‘proxy’, ‘ca’, ‘RcppArmadillo’\n",
      "\n"
     ]
    },
    {
     "name": "stdout",
     "output_type": "stream",
     "text": [
      "\n",
      "The downloaded source packages are in\n",
      "\t‘/private/var/folders/8n/wqq1rzgd5tsf8643gtr2xqfw0000gn/T/RtmpDBSSyZ/downloaded_packages’\n"
     ]
    },
    {
     "name": "stderr",
     "output_type": "stream",
     "text": [
      "Updating HTML index of packages in '.Library'\n",
      "Making 'packages.html' ... done\n"
     ]
    }
   ],
   "source": [
    "install.packages(\"quanteda\", repos = \"http://cran.us.r-project.org\")"
   ]
  },
  {
   "cell_type": "code",
   "execution_count": 5,
   "metadata": {
    "collapsed": false
   },
   "outputs": [],
   "source": [
    "library(quanteda)"
   ]
  },
  {
   "cell_type": "code",
   "execution_count": 6,
   "metadata": {
    "collapsed": true
   },
   "outputs": [],
   "source": [
    "speeches <- textfile(\"~/Dropbox/Text Analysis Workshop/Announcements/*.txt\",  docvarsfrom=\"filenames\", dvsep=\"_\", docvarnames=c(\"Candidate\", \"Party\", \"Date\"))"
   ]
  },
  {
   "cell_type": "code",
   "execution_count": 8,
   "metadata": {
    "collapsed": false
   },
   "outputs": [],
   "source": [
    "speechCorpus <- corpus(speeches) "
   ]
  },
  {
   "cell_type": "code",
   "execution_count": 9,
   "metadata": {
    "collapsed": false
   },
   "outputs": [
    {
     "name": "stdout",
     "output_type": "stream",
     "text": [
      "Corpus consisting of 21 documents, showing 5 documents.\n",
      "\n",
      "                        Text Types Tokens Sentences Candidate Party       Date\n",
      "     Bush_GOP_06-15-2015.txt   899   2533       304      Bush   GOP 06-15-2015\n",
      "   Carson_GOP_05-04-2015.txt  1057   4577       544    Carson   GOP 05-04-2015\n",
      "  Chaffee_DEM_06-03-2015.txt   789   1905       236   Chaffee   DEM 06-03-2015\n",
      " Christie_GOP_06-30-2015.txt   861   4054       451  Christie   GOP 06-30-2015\n",
      "  Clinton_DEM_04-12-2015.txt  1454   6058       684   Clinton   DEM 04-12-2015\n",
      "\n",
      "Source:  /Users/ryankrog/* on x86_64 by ryankrog\n",
      "Created: Tue Mar 22 19:21:27 2016\n",
      "Notes:   \n",
      "\n"
     ]
    }
   ],
   "source": [
    "summary(speechCorpus, n=5) "
   ]
  },
  {
   "cell_type": "code",
   "execution_count": null,
   "metadata": {
    "collapsed": true
   },
   "outputs": [],
   "source": []
  }
 ],
 "metadata": {
  "kernelspec": {
   "display_name": "R",
   "language": "R",
   "name": "ir"
  },
  "language_info": {
   "codemirror_mode": "r",
   "file_extension": ".r",
   "mimetype": "text/x-r-source",
   "name": "R",
   "pygments_lexer": "r",
   "version": "3.2.2"
  }
 },
 "nbformat": 4,
 "nbformat_minor": 0
}
